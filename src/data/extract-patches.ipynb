{
 "cells": [
  {
   "cell_type": "markdown",
   "metadata": {},
   "source": [
    "# Extract patches"
   ]
  },
  {
   "cell_type": "code",
   "execution_count": 34,
   "metadata": {},
   "outputs": [],
   "source": [
    "import numpy as np \n",
    "#import SlideRunner.general.dependencies\n",
    "from SlideRunner.dataAccess.database import Database\n",
    "from SlideRunner.dataAccess.annotations import *\n",
    "import os\n",
    "import openslide\n",
    "import sqlite3\n",
    "import cv2\n",
    "import sys"
   ]
  },
  {
   "cell_type": "markdown",
   "metadata": {},
   "source": [
    "# Get annotation images for all three databases and train/test splits"
   ]
  },
  {
   "cell_type": "markdown",
   "metadata": {},
   "source": [
    "## Setup"
   ]
  },
  {
   "cell_type": "markdown",
   "metadata": {},
   "source": [
    "Create directories for all three databases\n",
    "* MEL, ODAEL, CODAEL\n",
    "* Each database has three different train/test splits\n",
    "* So there will be 9 total directories created"
   ]
  },
  {
   "cell_type": "code",
   "execution_count": 35,
   "metadata": {},
   "outputs": [],
   "source": [
    "# make list of tuples\n",
    "databases = ['MEL','ODAEL','CODAEL']\n",
    "splits = ['1','2','3']\n",
    "\n",
    "dir_names = []\n",
    "for database in databases:\n",
    "    for split in splits:\n",
    "        dir_names.append((database, split))\n",
    "\n",
    "# create the directories in a folder named Data\n",
    "for database, split in dir_names:\n",
    "    os.system('mkdir -p Data/Data_CMC_%s_%s' % (database, split))\n",
    "\n",
    "    dirs = ['Mitosis', 'Nonmitosis']\n",
    "    for k in dirs:\n",
    "        os.system('mkdir -p Data/Data_CMC_%s_%s/train/%s' % (database,split,k))\n",
    "        os.system('mkdir -p Data/Data_CMC_%s_%s/test/%s' % (database,split,k))\n"
   ]
  },
  {
   "cell_type": "markdown",
   "metadata": {},
   "source": [
    "Define database file paths"
   ]
  },
  {
   "cell_type": "code",
   "execution_count": 36,
   "metadata": {},
   "outputs": [],
   "source": [
    "# path to directory main folder\n",
    "path = '../../'\n",
    "# list of databases\n",
    "DBs = [path+'prework/databases/MITOS_WSI_CMC_MEL.sqlite', \n",
    "path+'prework/databases/MITOS_WSI_CMC_ODAEL_TR.sqlite', \n",
    "path+'prework/databases/MITOS_WSI_CMC_CODAEL_TR_ROI.sqlite']\n",
    "# make tuple with corresponding database label\n",
    "databases = ['MEL','ODAEL','CODAEL']\n",
    "DB_names = []\n",
    "for i in range(len(DBs)):\n",
    "    DB_names.append((DBs[i], databases[i]))\n"
   ]
  },
  {
   "cell_type": "markdown",
   "metadata": {},
   "source": [
    "Define the test sets"
   ]
  },
  {
   "cell_type": "code",
   "execution_count": 37,
   "metadata": {},
   "outputs": [],
   "source": [
    "slidelist_test_1 = ['18','3', '22','10','15','21','14']\n",
    "slidelist_test_2 = ['1', '20','17','5', '2', '11','16']\n",
    "slidelist_test_3 = ['12','13','7', '19','8', '6', '9']\n",
    "\n",
    "test_slides = { '1': slidelist_test_1,\n",
    "                '2': slidelist_test_2,\n",
    "                '3': slidelist_test_3}"
   ]
  },
  {
   "cell_type": "markdown",
   "metadata": {},
   "source": [
    "**Important:** Set image patch size with modeling in mind. Most pre-trained networks like ResNet require (224,224) inputs"
   ]
  },
  {
   "cell_type": "code",
   "execution_count": 38,
   "metadata": {},
   "outputs": [],
   "source": [
    "patchSize = 250"
   ]
  },
  {
   "cell_type": "markdown",
   "metadata": {},
   "source": [
    "Set parameters\n",
    "* Ensure WSIpath and basepath are setup properly according to your setup"
   ]
  },
  {
   "cell_type": "code",
   "execution_count": 39,
   "metadata": {},
   "outputs": [],
   "source": [
    "disagreedclass = 0\n",
    "agreedclass = 0\n",
    " # path to WSI folder (depends on your setup)\n",
    "WSIpath='../../WSI/'\n",
    "# absolute path to the working directory + Data folder\n",
    "basepath = os.getcwd()+'/Data/'"
   ]
  },
  {
   "cell_type": "markdown",
   "metadata": {},
   "source": [
    "List of slides function"
   ]
  },
  {
   "cell_type": "code",
   "execution_count": 40,
   "metadata": {},
   "outputs": [],
   "source": [
    "def listOfSlides(DB):\n",
    "    DB.execute('SELECT uid,filename from Slides')\n",
    "    return DB.fetchall()"
   ]
  },
  {
   "cell_type": "markdown",
   "metadata": {},
   "source": [
    "**WARNING:** Takes a long time to run and will consume on order of 10s of GBs of memory on local storage depending on image size\n",
    "\n",
    "Get image patches for every annotation in each database and assign it to the correct directory"
   ]
  },
  {
   "cell_type": "code",
   "execution_count": 202,
   "metadata": {},
   "outputs": [
    {
     "name": "stdout",
     "output_type": "stream",
     "text": [
      "Done with slide 1 in database CODAEL\n",
      "Done with slide 2 in database CODAEL\n",
      "Done with slide 3 in database CODAEL\n",
      "Done with slide 5 in database CODAEL\n",
      "Done with slide 6 in database CODAEL\n",
      "Done with slide 7 in database CODAEL\n",
      "Done with slide 8 in database CODAEL\n",
      "Done with slide 9 in database CODAEL\n",
      "Done with slide 10 in database CODAEL\n",
      "Done with slide 11 in database CODAEL\n",
      "Done with slide 12 in database CODAEL\n",
      "Done with slide 13 in database CODAEL\n",
      "Done with slide 14 in database CODAEL\n",
      "Done with slide 15 in database CODAEL\n",
      "Done with slide 16 in database CODAEL\n",
      "Done with slide 17 in database CODAEL\n",
      "Done with slide 18 in database CODAEL\n",
      "Done with slide 19 in database CODAEL\n",
      "Done with slide 20 in database CODAEL\n",
      "Done with slide 21 in database CODAEL\n",
      "Done with slide 22 in database CODAEL\n"
     ]
    }
   ],
   "source": [
    "# outer for loop to go through each database\n",
    "for database, name in DB_names:\n",
    "    # instantiate database object and open database\n",
    "    DB = Database().open(database)\n",
    "\n",
    "    # first inner for loop to go through slides of DB\n",
    "    for slideid,filename in listOfSlides(DB):\n",
    "        # load slide into memoetry and open w/openslide\n",
    "        DB.loadIntoMemory(slideid)\n",
    "    \n",
    "        slide=openslide.open_slide(WSIpath+filename)\n",
    "\n",
    "        # second inner for loop to go through each annotation on the current slide\n",
    "        for k in DB.annotations.keys():\n",
    "\n",
    "            anno = DB.annotations[k]\n",
    "\n",
    "            if anno.deleted or anno.annotationType != AnnotationType.SPOT:\n",
    "                continue\n",
    "            coord_x = anno.x1\n",
    "            coord_y = anno.y1\n",
    "\n",
    "            lu_x = int(coord_x - int(patchSize/2))\n",
    "            lu_y = int(coord_y - int(patchSize/2))\n",
    "            img = np.array(slide.read_region(location=(lu_x, lu_y), level=0, size=(patchSize, patchSize)))\n",
    "            img = cv2.cvtColor(img, cv2.COLOR_RGBA2BGR)\n",
    "            \n",
    "            # third inner for loop to assign annotation/image to proper directory of current database\n",
    "            for split in splits:\n",
    "                istest = 'train/' if str(slideid) not in test_slides[split] else 'test/'\n",
    "                if (anno.agreedClass ==2):\n",
    "                    cv2.imwrite(basepath+'Data_CMC_%s_%s/' % (name, split) +istest+'Mitosis/%d.png' % k, img)\n",
    "                    #os.system(f'ln -s ../../../images/Mitosis/{k}.png Data_CMC{sys.argv[1]}/'+istest+'Mitosis/%d.png' %k)\n",
    "\n",
    "                if (anno.agreedClass==1):\n",
    "                    cv2.imwrite(basepath+'Data_CMC_%s_%s/' % (name, split) +istest+'Nonmitosis/%d.png' % k, img)\n",
    "                    #os.system(f'ln -s ../../../images/Nonmitosis/{k}.png Data_CMC{sys.argv[1]}/'+istest+'Nonmitosis/%d.png' %k)\n",
    "        print('Done with slide {} in database {}'.format(slideid, name))\n"
   ]
  },
  {
   "cell_type": "code",
   "execution_count": null,
   "metadata": {},
   "outputs": [],
   "source": []
  }
 ],
 "metadata": {
  "kernelspec": {
   "display_name": "Python 3.8.13 ('capstone')",
   "language": "python",
   "name": "python3"
  },
  "language_info": {
   "codemirror_mode": {
    "name": "ipython",
    "version": 3
   },
   "file_extension": ".py",
   "mimetype": "text/x-python",
   "name": "python",
   "nbconvert_exporter": "python",
   "pygments_lexer": "ipython3",
   "version": "3.8.13"
  },
  "orig_nbformat": 4,
  "vscode": {
   "interpreter": {
    "hash": "fbe1240c42c9fedbac8dda4922e480118c75c39e21d1189b5dde5cc4a0ce6e6d"
   }
  }
 },
 "nbformat": 4,
 "nbformat_minor": 2
}
