{
  "cells": [
    {
      "cell_type": "markdown",
      "metadata": {
        "id": "JXbzsXgc2uP-"
      },
      "source": [
        "# Initial transfer learning CNN modeling in PyTorch"
      ]
    },
    {
      "cell_type": "markdown",
      "metadata": {
        "id": "wqsdwdII2uQD"
      },
      "source": [
        "Adapted from: https://pytorch.org/tutorials/beginner/transfer_learning_tutorial.html"
      ]
    },
    {
      "cell_type": "code",
      "source": [
        "from google.colab import drive\n",
        "drive.mount('/content/drive')"
      ],
      "metadata": {
        "colab": {
          "base_uri": "https://localhost:8080/"
        },
        "id": "LvGRrCRv3A9H",
        "outputId": "aa006aef-7d95-4ee8-fd0e-5ec38b1fb180"
      },
      "execution_count": 1,
      "outputs": [
        {
          "output_type": "stream",
          "name": "stdout",
          "text": [
            "Mounted at /content/drive\n"
          ]
        }
      ]
    },
    {
      "cell_type": "code",
      "source": [
        "!pip install torchmetrics\n",
        "!pip install mlflow\n",
        "!pip install pytorch-lightning==1.7.6"
      ],
      "metadata": {
        "id": "BQvbQ0H83d6O"
      },
      "execution_count": null,
      "outputs": []
    },
    {
      "cell_type": "code",
      "execution_count": 3,
      "metadata": {
        "colab": {
          "base_uri": "https://localhost:8080/"
        },
        "id": "epFPQahG2uQE",
        "outputId": "6abe777e-ff14-43ff-b92b-acb150c09fc4"
      },
      "outputs": [
        {
          "output_type": "stream",
          "name": "stdout",
          "text": [
            "PyTorch version: 1.12.1+cu113\n",
            "torchvision version: 0.13.1+cu113\n",
            "pytorch_lighting version: 1.7.6\n"
          ]
        }
      ],
      "source": [
        "# Import basics\n",
        "import os\n",
        "import numpy as np\n",
        "import pandas as pd\n",
        "import time\n",
        "import copy\n",
        "\n",
        "# Import PyTorch\n",
        "import torch\n",
        "from torch import nn\n",
        "import torch.optim as optim\n",
        "from torch.optim import lr_scheduler\n",
        "import torch.backends.cudnn as cudnn\n",
        "\n",
        "# Import PyTorch lightning and MLflow\n",
        "import pytorch_lightning\n",
        "import mlflow\n",
        "\n",
        "# Import torchvision \n",
        "import torchvision\n",
        "from torchvision import datasets, transforms, models\n",
        "from torchvision.transforms import ToTensor\n",
        "from torch.utils.data import DataLoader, ConcatDataset\n",
        "\n",
        "# Import torchmetrics\n",
        "import torchmetrics\n",
        "\n",
        "# Import matplotlib for visualization\n",
        "import matplotlib.pyplot as plt\n",
        "\n",
        "# Check versions\n",
        "# Note: your PyTorch version shouldn't be lower than 1.10.0 and torchvision version shouldn't be lower than 0.11\n",
        "print(f\"PyTorch version: {torch.__version__}\\ntorchvision version: {torchvision.__version__}\\npytorch_lighting version: {pytorch_lightning.__version__}\")"
      ]
    },
    {
      "cell_type": "code",
      "execution_count": 4,
      "metadata": {
        "id": "Oqw-uymx2uQG"
      },
      "outputs": [],
      "source": [
        "cudnn.benchmark = True\n",
        "plt.ion()   # interactive mode"
      ]
    },
    {
      "cell_type": "markdown",
      "source": [
        "## Initialize model"
      ],
      "metadata": {
        "id": "Dt_hEYwdaZ62"
      }
    },
    {
      "cell_type": "markdown",
      "source": [
        "* Model must be defined before loading the data to resize the images to the required input size of the selected pre-trained model\n",
        "* Num_classes is equal to 2 in our case (Mitosis vs. Nonmitosis). This will reset the last layer of the pre-trained model (usually a fully connected layer) to have output size = num_classes\n",
        "* Feature_extract: If True, only update reshaped layer params. If False, model is finetuned and all model parameters are updated"
      ],
      "metadata": {
        "id": "S3F-gRs7agcf"
      }
    },
    {
      "cell_type": "code",
      "source": [
        "model_name = 'resnet'\n",
        "num_classes = 2\n",
        "feature_extract = False"
      ],
      "metadata": {
        "id": "A82JV_pOfgqU"
      },
      "execution_count": 5,
      "outputs": []
    },
    {
      "cell_type": "markdown",
      "source": [
        "Helper function"
      ],
      "metadata": {
        "id": "z8zPTEm_b4Lt"
      }
    },
    {
      "cell_type": "code",
      "source": [
        "def set_parameter_requires_grad(model, feature_extracting):\n",
        "    if feature_extracting:\n",
        "        for param in model.parameters():\n",
        "            param.requires_grad = False"
      ],
      "metadata": {
        "id": "pB9V4uw9b3gn"
      },
      "execution_count": 6,
      "outputs": []
    },
    {
      "cell_type": "markdown",
      "source": [
        "Model selection function"
      ],
      "metadata": {
        "id": "4nin8SfLb99X"
      }
    },
    {
      "cell_type": "code",
      "source": [
        "def initialize_model(model_name, num_classes, feature_extract, use_pretrained=True):\n",
        "    # Initialize these variables which will be set in this if statement. Each of these\n",
        "    #   variables is model specific.\n",
        "    model_ft = None\n",
        "    input_size = 0\n",
        "\n",
        "    if model_name == \"resnet\":\n",
        "        \"\"\" Resnet18\n",
        "        \"\"\"\n",
        "        model_ft = models.resnet18(pretrained=use_pretrained)\n",
        "        set_parameter_requires_grad(model_ft, feature_extract)\n",
        "        num_ftrs = model_ft.fc.in_features\n",
        "        model_ft.fc = nn.Linear(num_ftrs, num_classes)\n",
        "        input_size = 224\n",
        "\n",
        "    elif model_name == \"alexnet\":\n",
        "        \"\"\" Alexnet\n",
        "        \"\"\"\n",
        "        model_ft = models.alexnet(pretrained=use_pretrained)\n",
        "        set_parameter_requires_grad(model_ft, feature_extract)\n",
        "        num_ftrs = model_ft.classifier[6].in_features\n",
        "        model_ft.classifier[6] = nn.Linear(num_ftrs,num_classes)\n",
        "        input_size = 224\n",
        "\n",
        "    elif model_name == \"vgg\":\n",
        "        \"\"\" VGG11_bn\n",
        "        \"\"\"\n",
        "        model_ft = models.vgg11_bn(pretrained=use_pretrained)\n",
        "        set_parameter_requires_grad(model_ft, feature_extract)\n",
        "        num_ftrs = model_ft.classifier[6].in_features\n",
        "        model_ft.classifier[6] = nn.Linear(num_ftrs,num_classes)\n",
        "        input_size = 224\n",
        "\n",
        "    elif model_name == \"squeezenet\":\n",
        "        \"\"\" Squeezenet\n",
        "        \"\"\"\n",
        "        model_ft = models.squeezenet1_0(pretrained=use_pretrained)\n",
        "        set_parameter_requires_grad(model_ft, feature_extract)\n",
        "        model_ft.classifier[1] = nn.Conv2d(512, num_classes, kernel_size=(1,1), stride=(1,1))\n",
        "        model_ft.num_classes = num_classes\n",
        "        input_size = 224\n",
        "\n",
        "    elif model_name == \"densenet\":\n",
        "        \"\"\" Densenet\n",
        "        \"\"\"\n",
        "        model_ft = models.densenet121(pretrained=use_pretrained)\n",
        "        set_parameter_requires_grad(model_ft, feature_extract)\n",
        "        num_ftrs = model_ft.classifier.in_features\n",
        "        model_ft.classifier = nn.Linear(num_ftrs, num_classes)\n",
        "        input_size = 224\n",
        "\n",
        "    elif model_name == \"inception\":\n",
        "        \"\"\" Inception v3\n",
        "        Be careful, expects (299,299) sized images and has auxiliary output\n",
        "        \"\"\"\n",
        "        model_ft = models.inception_v3(pretrained=use_pretrained)\n",
        "        set_parameter_requires_grad(model_ft, feature_extract)\n",
        "        # Handle the auxilary net\n",
        "        num_ftrs = model_ft.AuxLogits.fc.in_features\n",
        "        model_ft.AuxLogits.fc = nn.Linear(num_ftrs, num_classes)\n",
        "        # Handle the primary net\n",
        "        num_ftrs = model_ft.fc.in_features\n",
        "        model_ft.fc = nn.Linear(num_ftrs,num_classes)\n",
        "        input_size = 299\n",
        "\n",
        "    else:\n",
        "        print(\"Invalid model name, exiting...\")\n",
        "        exit()\n",
        "\n",
        "    return model_ft, input_size"
      ],
      "metadata": {
        "id": "l1fA0bj7bXhB"
      },
      "execution_count": 7,
      "outputs": []
    },
    {
      "cell_type": "markdown",
      "source": [
        "Define and select model then write it to the device"
      ],
      "metadata": {
        "id": "YrlLPGlscrPR"
      }
    },
    {
      "cell_type": "code",
      "source": [
        "model_ft, input_size = initialize_model(model_name=model_name, num_classes=num_classes, feature_extract=feature_extract, use_pretrained=True)\n",
        "\n",
        "# write to device\n",
        "device = torch.device(\"cuda:0\" if torch.cuda.is_available() else \"cpu\")\n",
        "model_ft = model_ft.to(device)\n"
      ],
      "metadata": {
        "colab": {
          "base_uri": "https://localhost:8080/",
          "height": 158,
          "referenced_widgets": [
            "181e3e99d4d94f47ba46ad63b8a286ab",
            "cdf46ea0492a42b7894361f17475c3bc",
            "df20b93be4ac4affb07333f9bcc6adbf",
            "977d19766e7a486c9f597b5261bf8a2f",
            "45772f406b794681bbc8026bfc4f25c8",
            "278209943a4a4d6ebc792f73e49b0415",
            "b58ac9e73f7b4f019292b438d1b2e885",
            "72c392f8f3664d549d1ef501cd5ad0bb",
            "8c7059979b364d2bb7d9373cb56eeeb4",
            "60444cbc5a744b62bef902744b14823b",
            "594ccb8521de4fd2b6d6a328d7712088"
          ]
        },
        "id": "b9hvfp1LcUiw",
        "outputId": "2e5df41a-a808-4da5-f991-d78702b65c7e"
      },
      "execution_count": 8,
      "outputs": [
        {
          "output_type": "stream",
          "name": "stderr",
          "text": [
            "/usr/local/lib/python3.7/dist-packages/torchvision/models/_utils.py:209: UserWarning: The parameter 'pretrained' is deprecated since 0.13 and will be removed in 0.15, please use 'weights' instead.\n",
            "  f\"The parameter '{pretrained_param}' is deprecated since 0.13 and will be removed in 0.15, \"\n",
            "/usr/local/lib/python3.7/dist-packages/torchvision/models/_utils.py:223: UserWarning: Arguments other than a weight enum or `None` for 'weights' are deprecated since 0.13 and will be removed in 0.15. The current behavior is equivalent to passing `weights=ResNet18_Weights.IMAGENET1K_V1`. You can also use `weights=ResNet18_Weights.DEFAULT` to get the most up-to-date weights.\n",
            "  warnings.warn(msg)\n",
            "Downloading: \"https://download.pytorch.org/models/resnet18-f37072fd.pth\" to /root/.cache/torch/hub/checkpoints/resnet18-f37072fd.pth\n"
          ]
        },
        {
          "output_type": "display_data",
          "data": {
            "text/plain": [
              "  0%|          | 0.00/44.7M [00:00<?, ?B/s]"
            ],
            "application/vnd.jupyter.widget-view+json": {
              "version_major": 2,
              "version_minor": 0,
              "model_id": "181e3e99d4d94f47ba46ad63b8a286ab"
            }
          },
          "metadata": {}
        }
      ]
    },
    {
      "cell_type": "markdown",
      "metadata": {
        "id": "Y9aw7Lp32uQH"
      },
      "source": [
        "## PyTorch data setup"
      ]
    },
    {
      "cell_type": "code",
      "source": [
        "import requests\n",
        "import zipfile\n",
        "from pathlib import Path\n",
        "data_path = Path(\"data/\")\n",
        "file_path = '/content/drive/MyDrive/Fourthbrain/Capstone/Image patch data/250px/Data_CMC_CODAEL_1.zip' # file path to .zip file in your Google Drive"
      ],
      "metadata": {
        "id": "0-pwdunP4CdZ"
      },
      "execution_count": 9,
      "outputs": []
    },
    {
      "cell_type": "code",
      "source": [
        "# Unzip image patch data\n",
        "with zipfile.ZipFile(file_path, \"r\") as zip_ref:\n",
        "    print(\"Unzipping data\") \n",
        "    zip_ref.extractall(data_path)"
      ],
      "metadata": {
        "colab": {
          "base_uri": "https://localhost:8080/"
        },
        "id": "yce_9yXR3yaE",
        "outputId": "3072cec1-2bdc-44ff-b53c-d37906284a9f"
      },
      "execution_count": 10,
      "outputs": [
        {
          "output_type": "stream",
          "name": "stdout",
          "text": [
            "Unzipping data\n"
          ]
        }
      ]
    },
    {
      "cell_type": "markdown",
      "source": [
        "### Load in data and split into train, validation, and test sets"
      ],
      "metadata": {
        "id": "l5jmxZp-LqBQ"
      }
    },
    {
      "cell_type": "markdown",
      "metadata": {
        "id": "hk8ECUhd2uQJ"
      },
      "source": [
        "**Hyperparameters**"
      ]
    },
    {
      "cell_type": "code",
      "execution_count": 11,
      "metadata": {
        "id": "buDL6Jh22uQJ"
      },
      "outputs": [],
      "source": [
        "batch_size = 64\n",
        "num_workers = 2\n",
        "random_state = 42"
      ]
    },
    {
      "cell_type": "markdown",
      "metadata": {
        "id": "h8Ajhak-2uQH"
      },
      "source": [
        "Set dataset and image path"
      ]
    },
    {
      "cell_type": "code",
      "execution_count": 12,
      "metadata": {
        "id": "MJf2jKkQ2uQH"
      },
      "outputs": [],
      "source": [
        "dataset = 'Data_CMC_CODAEL_1'\n",
        "image_path = '/content/data/' + dataset\n",
        "train_dir = image_path+'/train'\n",
        "test_dir = image_path+'/test'"
      ]
    },
    {
      "cell_type": "markdown",
      "metadata": {
        "id": "BHcFxVfR2uQJ"
      },
      "source": [
        "* Load in train data from directory and randomly split (80/20) the train folder into training and validation sets\n",
        "* Load in test data from directory separately\n",
        "* Apply no transforms to any set yet except ToTensor"
      ]
    },
    {
      "cell_type": "code",
      "execution_count": 13,
      "metadata": {
        "id": "dwJA2I1i2uQK",
        "colab": {
          "base_uri": "https://localhost:8080/"
        },
        "outputId": "0c610613-ec75-478b-e6a2-f9f91d94738f"
      },
      "outputs": [
        {
          "output_type": "stream",
          "name": "stdout",
          "text": [
            "Dataset ImageFolder\n",
            "    Number of datapoints: 37950\n",
            "    Root location: /content/data/Data_CMC_CODAEL_1/train\n",
            "    StandardTransform\n",
            "Transform: ToTensor()\n",
            "Dataset ImageFolder\n",
            "    Number of datapoints: 12332\n",
            "    Root location: /content/data/Data_CMC_CODAEL_1/test\n",
            "    StandardTransform\n",
            "Transform: ToTensor()\n"
          ]
        }
      ],
      "source": [
        "train_data = datasets.ImageFolder(root=train_dir, transform=transforms.ToTensor())\n",
        "\n",
        "test_data = datasets.ImageFolder(root=test_dir, transform=transforms.ToTensor())\n",
        "\n",
        "print(train_data)\n",
        "print(test_data)"
      ]
    },
    {
      "cell_type": "code",
      "source": [
        "train_split = 0.8\n",
        "training_examples = int(len(train_data)*train_split)\n",
        "val_examples = len(train_data) - training_examples\n",
        "train, val = torch.utils.data.random_split((train_data), \n",
        "                                            [training_examples, val_examples], \n",
        "                                                generator=torch.Generator().manual_seed(random_state))"
      ],
      "metadata": {
        "id": "fbvYSleddIQI"
      },
      "execution_count": 14,
      "outputs": []
    },
    {
      "cell_type": "code",
      "source": [
        "# Create data loader to calculate mean and std of train set only\n",
        "dataset_loader = DataLoader(train, shuffle=False, num_workers=num_workers)"
      ],
      "metadata": {
        "id": "iJpZqrH7K2qr"
      },
      "execution_count": 15,
      "outputs": []
    },
    {
      "cell_type": "markdown",
      "source": [
        "Function to get mean and standard deviation of the training data. Only run if needed (takes awhile)"
      ],
      "metadata": {
        "id": "ceTdmPrHNOiC"
      }
    },
    {
      "cell_type": "code",
      "source": [
        "N_CHANNELS = 3 # color images, so three channels\n",
        "\n",
        "def normalization_params(dataloader, N_CHANNELS):\n",
        "  mean = torch.zeros(N_CHANNELS)\n",
        "  std = torch.zeros(N_CHANNELS)\n",
        "\n",
        "  for inputs, labels in dataloader:\n",
        "    for i in range(N_CHANNELS):\n",
        "      mean[i] += inputs[:,i,:,:].mean().item()\n",
        "      std[i] += inputs[:,i,:,:].std().item()\n",
        "\n",
        "  mean /= len(train)\n",
        "  std /= len(train)\n",
        "  return mean, std"
      ],
      "metadata": {
        "id": "guLHnA2BOQ6Q"
      },
      "execution_count": 16,
      "outputs": []
    },
    {
      "cell_type": "code",
      "source": [
        "mean, std = normalization_params(dataset_loader, N_CHANNELS)"
      ],
      "metadata": {
        "id": "wZL4UIKClO--"
      },
      "execution_count": 17,
      "outputs": []
    },
    {
      "cell_type": "code",
      "source": [
        "print(mean)\n",
        "print(std)"
      ],
      "metadata": {
        "id": "2whp69TZKbYU",
        "colab": {
          "base_uri": "https://localhost:8080/"
        },
        "outputId": "06119878-e72a-469a-9780-4922ae868030"
      },
      "execution_count": 18,
      "outputs": [
        {
          "output_type": "stream",
          "name": "stdout",
          "text": [
            "tensor([0.7508, 0.5410, 0.6403])\n",
            "tensor([0.1428, 0.1637, 0.1340])\n"
          ]
        }
      ]
    },
    {
      "cell_type": "markdown",
      "metadata": {
        "id": "j0ldYbjB2uQI"
      },
      "source": [
        "### Define PyTorch transform"
      ]
    },
    {
      "cell_type": "markdown",
      "source": [
        "Entire train folder directory stats\n",
        "* mean of MEL 1 (128 px) training data = [0.7358, 0.5185, 0.6233], mean of MEL 1(250 px) training data = [0.7439, 0.5272, 0.6297]\n",
        "* std of MEL 1 (128 px) training data = [0.1470, 0.1610, 0.1329], std of MEL 1 (250 px) training data [0.1433, 0.1633, 0.1339]\n",
        "\n",
        "Stats of train set after splitting into train/val\n",
        "* mean of MEL 1 (250 px) training data = [0.7438, 0.5271, 0.6297]\n",
        "* std of MEL 1 (250 px) training data =[0.1433, 0.1634, 0.1339]\n",
        "* mean of CODAEL 1 (250 px) training data = [0.7508, 0.5410, 0.6403]\n",
        "* std of CODAEL 1 (250 px) training data = [0.1428, 0.1637, 0.1340]\n"
      ],
      "metadata": {
        "id": "wLCK9W19ULh4"
      }
    },
    {
      "cell_type": "code",
      "source": [
        "mean = mean.tolist() # mean of training set (after splitting)\n",
        "std = std.tolist() # standard deviation of training set (after splitting)"
      ],
      "metadata": {
        "id": "3_lqGJ9fVrwq"
      },
      "execution_count": 19,
      "outputs": []
    },
    {
      "cell_type": "markdown",
      "source": [
        "Resize, normalize, and transform data to tensors (no augmentation for now)"
      ],
      "metadata": {
        "id": "OQpdJu3wba9_"
      }
    },
    {
      "cell_type": "code",
      "execution_count": 20,
      "metadata": {
        "id": "ttITafdi2uQI"
      },
      "outputs": [],
      "source": [
        "# Write transform dictionary\n",
        "data_transforms = {\n",
        "    'train': transforms.Compose([\n",
        "      # Resize the images to input_size of pre-trained model\n",
        "      transforms.Resize(input_size),\n",
        "      # Flip the images randomly on the horizontal, p = probability of flip, 0.5 = 50% chance\n",
        "      transforms.RandomHorizontalFlip(p=0.5), \n",
        "      # Turn the image into a torch.Tensor, this also converts all pixel values from 0 to 255 to be between 0.0 and 1.0\n",
        "      transforms.ToTensor(), \n",
        "      # normalize data with proper normalization values\n",
        "      transforms.Normalize(mean, std)\n",
        "    ]),\n",
        "    'val': transforms.Compose([\n",
        "      # Resize the images to input_size of pre-trained model\n",
        "      transforms.Resize(input_size),\n",
        "      # Turn the image into a torch.Tensor\n",
        "      transforms.ToTensor(), # this also converts all pixel values from 0 to 255 to be between 0.0 and 1.0\n",
        "      # normalize data with proper normalization values\n",
        "      transforms.Normalize(mean, std)\n",
        "    ]),\n",
        "    'test': transforms.Compose([\n",
        "      # Resize the images to input_size of pre-trained model\n",
        "      transforms.Resize(input_size),\n",
        "      # Turn the image into a torch.Tensor\n",
        "      transforms.ToTensor(), # this also converts all pixel values from 0 to 255 to be between 0.0 and 1.0\n",
        "      # normalize data with proper normalization values\n",
        "      transforms.Normalize(mean, std)\n",
        "    ])\n",
        "}"
      ]
    },
    {
      "cell_type": "markdown",
      "source": [
        "Apply transforms to training, validation, and test sets"
      ],
      "metadata": {
        "id": "QLPcayBeSERC"
      }
    },
    {
      "cell_type": "code",
      "source": [
        "train.dataset.transform = data_transforms['train']\n",
        "val.dataset.transform = data_transforms['val']\n",
        "test_data.transform = data_transforms['test']\n"
      ],
      "metadata": {
        "id": "9zymbEApSIZx"
      },
      "execution_count": 21,
      "outputs": []
    },
    {
      "cell_type": "markdown",
      "metadata": {
        "id": "frhZq1nl2uQJ"
      },
      "source": [
        "### Create PyTorch dataloaders"
      ]
    },
    {
      "cell_type": "markdown",
      "metadata": {
        "id": "sw4SGb662uQL"
      },
      "source": [
        "Create dictionary of train, validation, and test sets and specify whether to shuffle the data in the dataloader"
      ]
    },
    {
      "cell_type": "code",
      "execution_count": 24,
      "metadata": {
        "id": "LZj-RUSk2uQL",
        "colab": {
          "base_uri": "https://localhost:8080/"
        },
        "outputId": "1a66c0c7-1775-4de4-c9f5-ba60c81dbdff"
      },
      "outputs": [
        {
          "output_type": "stream",
          "name": "stdout",
          "text": [
            "{'train': 30360, 'val': 7590, 'test': 12332}\n"
          ]
        }
      ],
      "source": [
        "image_datasets = {'train': [train, True],\n",
        "                    'val': [val, True],\n",
        "                        'test': [test_data, False]} # usually don't shuffle test data\n",
        "\n",
        "dataset_sizes = {x: len(image_datasets[x][0]) for x in ['train','val','test']}\n",
        "print(dataset_sizes)"
      ]
    },
    {
      "cell_type": "markdown",
      "metadata": {
        "id": "FQFfFXMq2uQM"
      },
      "source": [
        "Create dataloaders"
      ]
    },
    {
      "cell_type": "code",
      "execution_count": 25,
      "metadata": {
        "id": "2pNUhd5w2uQM"
      },
      "outputs": [],
      "source": [
        "dataloaders = {x: DataLoader(image_datasets[x][0], \n",
        "                                batch_size=batch_size, \n",
        "                                    num_workers=num_workers, \n",
        "                                        shuffle=image_datasets[x][1])\n",
        "                for x in ['train','val','test']}"
      ]
    },
    {
      "cell_type": "markdown",
      "metadata": {
        "id": "99Etf2Jt2uQM"
      },
      "source": [
        "### Visualize data"
      ]
    },
    {
      "cell_type": "code",
      "execution_count": 26,
      "metadata": {
        "id": "49gYj33v2uQM"
      },
      "outputs": [],
      "source": [
        "def imshow(inp, title=None):\n",
        "    inp = inp.numpy().transpose((1, 2, 0))\n",
        "    plt.imshow(inp)\n",
        "    if title is not None:\n",
        "        plt.title(title)\n",
        "    plt.pause(0.001)  # pause a bit so that plots are updated"
      ]
    },
    {
      "cell_type": "code",
      "execution_count": 27,
      "metadata": {
        "id": "xbsEjt6K2uQM"
      },
      "outputs": [],
      "source": [
        "# Get a batch of training data and subset to just 4 examples\n",
        "inputs, classes = next(iter(dataloaders['train']))\n",
        "inputs = inputs[:4]\n",
        "inputs = np.clip(inputs, 0, 1)\n",
        "classes = classes[:4]"
      ]
    },
    {
      "cell_type": "code",
      "execution_count": 28,
      "metadata": {
        "id": "XhsVA3Js2uQN"
      },
      "outputs": [],
      "source": [
        "# Get class names\n",
        "class_names = train_data.classes"
      ]
    },
    {
      "cell_type": "code",
      "execution_count": 29,
      "metadata": {
        "id": "5S2y-tXz2uQN"
      },
      "outputs": [],
      "source": [
        "# Make a grid from batch\n",
        "out = torchvision.utils.make_grid(inputs)"
      ]
    },
    {
      "cell_type": "code",
      "execution_count": 30,
      "metadata": {
        "id": "JeiGN0_82uQN",
        "outputId": "f8b6fde7-f3d6-47e3-9222-a8752906f0fa",
        "colab": {
          "base_uri": "https://localhost:8080/",
          "height": 148
        }
      },
      "outputs": [
        {
          "output_type": "display_data",
          "data": {
            "text/plain": [
              "<Figure size 432x288 with 1 Axes>"
            ],
            "image/png": "[encoded data removed]"
          },
          "metadata": {
            "needs_background": "light"
          }
        }
      ],
      "source": [
        "imshow(out, title=[class_names[x] for x in classes])"
      ]
    },
    {
      "cell_type": "markdown",
      "metadata": {
        "id": "sLOKI_Mr2uQN"
      },
      "source": [
        "## PyTorch modeling setup"
      ]
    },
    {
      "cell_type": "markdown",
      "metadata": {
        "id": "hyL0cUaE2uQN"
      },
      "source": [
        "**Hyperparameters**"
      ]
    },
    {
      "cell_type": "code",
      "execution_count": 31,
      "metadata": {
        "id": "X9VBV5uh2uQN"
      },
      "outputs": [],
      "source": [
        "# Hyperparameters for training\n",
        "learning_rate = 0.01\n",
        "momentum = 0.9\n",
        "step_size = 7 # decrease learning rate by factor gamma every step size epochs\n",
        "gamma = 0.1\n",
        "num_epochs = 25"
      ]
    },
    {
      "cell_type": "markdown",
      "metadata": {
        "id": "i5ZCS0A_2uQO"
      },
      "source": [
        "### Model training definition"
      ]
    },
    {
      "cell_type": "code",
      "execution_count": 32,
      "metadata": {
        "id": "3WHBa3Q82uQO"
      },
      "outputs": [],
      "source": [
        "def train_model(model, criterion, optimizer, scheduler, num_epochs):\n",
        "    since = time.time()\n",
        "\n",
        "    # Set up dictionary to track train and validation loss and accuracy per epoch\n",
        "    model_track = {'epoch': [],\n",
        "                  'phase': [],\n",
        "                  'loss': [],\n",
        "                  'acc': []\n",
        "                  }\n",
        "    best_model_wts = copy.deepcopy(model.state_dict())\n",
        "    best_acc = 0.0\n",
        "\n",
        "    for epoch in range(num_epochs):\n",
        "        print(f'Epoch {epoch}/{num_epochs - 1}')\n",
        "        print('-' * 10)\n",
        "\n",
        "        # Each epoch has a training and validation phase\n",
        "        for phase in ['train', 'val']:\n",
        "            if phase == 'train':\n",
        "                model.train()  # Set model to training mode\n",
        "            else:\n",
        "                model.eval()   # Set model to evaluate mode\n",
        "\n",
        "            running_loss = 0.0\n",
        "            running_corrects = 0\n",
        "\n",
        "            # Iterate over data.\n",
        "            for inputs, labels in dataloaders[phase]:\n",
        "                inputs = inputs.to(device)\n",
        "                labels = labels.to(device)\n",
        "\n",
        "                # zero the parameter gradients\n",
        "                optimizer.zero_grad()\n",
        "\n",
        "                # forward\n",
        "                # track history if only in train\n",
        "                with torch.set_grad_enabled(phase == 'train'):\n",
        "                    outputs = model(inputs)\n",
        "                    _, preds = torch.max(outputs, 1)\n",
        "                    loss = criterion(outputs, labels)\n",
        "\n",
        "                    # backward + optimize only if in training phase\n",
        "                    if phase == 'train':\n",
        "                        loss.backward()\n",
        "                        optimizer.step()\n",
        "\n",
        "                # statistics\n",
        "                running_loss += loss.item() * inputs.size(0)\n",
        "                running_corrects += torch.sum(preds == labels.data)\n",
        "            if phase == 'train':\n",
        "                scheduler.step()\n",
        "\n",
        "            epoch_loss = running_loss / dataset_sizes[phase]\n",
        "            epoch_acc = running_corrects.double() / dataset_sizes[phase]\n",
        "\n",
        "            # update model tracking dictionary\n",
        "            model_track['epoch'].append(epoch)\n",
        "            model_track['phase'].append(phase)\n",
        "            model_track['loss'].append(epoch_loss)\n",
        "            model_track['acc'].append(epoch_acc.item())\n",
        "\n",
        "            print(f'{phase} Loss: {epoch_loss:.4f} Acc: {epoch_acc:.4f}')\n",
        "\n",
        "            # deep copy the model\n",
        "            if phase == 'val' and epoch_acc > best_acc:\n",
        "                best_acc = epoch_acc\n",
        "                best_model_wts = copy.deepcopy(model.state_dict())\n",
        "\n",
        "        print()\n",
        "\n",
        "    time_elapsed = time.time() - since\n",
        "    print(f'Training complete in {time_elapsed // 60:.0f}m {time_elapsed % 60:.0f}s')\n",
        "    print(f'Best val Acc: {best_acc:4f}')\n",
        "\n",
        "    # load best model weights\n",
        "    model.load_state_dict(best_model_wts)\n",
        "    return model, model_track"
      ]
    },
    {
      "cell_type": "markdown",
      "metadata": {
        "id": "AGpoWvTO2uQO"
      },
      "source": [
        "### Visualizing model predictions"
      ]
    },
    {
      "cell_type": "code",
      "execution_count": 33,
      "metadata": {
        "id": "w-RPaDbF2uQO"
      },
      "outputs": [],
      "source": [
        "def visualize_model(model, num_images=6):\n",
        "    was_training = model.training\n",
        "    model.eval()\n",
        "    images_so_far = 0\n",
        "    fig = plt.figure()\n",
        "\n",
        "    with torch.no_grad():\n",
        "        for i, (inputs, labels) in enumerate(dataloaders['val']):\n",
        "            inputs = inputs.to(device)\n",
        "            labels = labels.to(device)\n",
        "\n",
        "            outputs = model(inputs)\n",
        "            _, preds = torch.max(outputs, 1)\n",
        "\n",
        "            for j in range(inputs.size()[0]):\n",
        "                images_so_far += 1\n",
        "                ax = plt.subplot(num_images//2, 2, images_so_far)\n",
        "                ax.axis('off')\n",
        "                ax.set_title(f'predicted: {class_names[preds[j]]}')\n",
        "                imshow(inputs.cpu().data[j])\n",
        "\n",
        "                if images_so_far == num_images:\n",
        "                    model.train(mode=was_training)\n",
        "                    return\n",
        "        model.train(mode=was_training)"
      ]
    },
    {
      "cell_type": "markdown",
      "source": [
        "### Set the optimizer"
      ],
      "metadata": {
        "id": "S0QMkH7efWhi"
      }
    },
    {
      "cell_type": "code",
      "source": [
        "# Gather the parameters to be optimized/updated in this run. If we are\n",
        "#  finetuning we will be updating all parameters. However, if we are\n",
        "#  doing feature extract method, we will only update the parameters\n",
        "#  that we have just initialized, i.e. the parameters with requires_grad\n",
        "#  is True.\n",
        "params_to_update = model_ft.parameters()\n",
        "print(\"Params to learn:\")\n",
        "if feature_extract:\n",
        "    params_to_update = []\n",
        "    for name,param in model_ft.named_parameters():\n",
        "        if param.requires_grad == True:\n",
        "            params_to_update.append(param)\n",
        "            print(\"\\t\",name)\n",
        "else:\n",
        "    for name,param in model_ft.named_parameters():\n",
        "        if param.requires_grad == True:\n",
        "            print(\"\\t\",name)\n",
        "\n",
        "# Observe that all parameters are being optimized\n",
        "optimizer_ft = optim.SGD(params_to_update, lr=learning_rate, momentum=momentum)"
      ],
      "metadata": {
        "id": "nYIjFg2kfYja"
      },
      "execution_count": null,
      "outputs": []
    },
    {
      "cell_type": "markdown",
      "source": [
        "### Set the loss function and learning rate scheduler"
      ],
      "metadata": {
        "id": "6HcBA4nQOEhN"
      }
    },
    {
      "cell_type": "code",
      "source": [
        "# Loss function\n",
        "criterion = nn.CrossEntropyLoss()\n",
        "\n",
        "# Decay LR by factor 'gamma' every 'step_size' epochs\n",
        "exp_lr_scheduler = lr_scheduler.StepLR(optimizer_ft, step_size=step_size, gamma=gamma)"
      ],
      "metadata": {
        "id": "Hm_RkD2wOIIN"
      },
      "execution_count": 35,
      "outputs": []
    },
    {
      "cell_type": "markdown",
      "source": [
        "## Run the model"
      ],
      "metadata": {
        "id": "nhJ_3uBdm7MH"
      }
    },
    {
      "cell_type": "code",
      "execution_count": 36,
      "metadata": {
        "id": "jsxnbX_92uQP",
        "outputId": "6731a7fa-762e-4282-976a-f894a9f37873",
        "colab": {
          "base_uri": "https://localhost:8080/"
        }
      },
      "outputs": [
        {
          "output_type": "stream",
          "name": "stdout",
          "text": [
            "Epoch 0/24\n",
            "----------\n",
            "train Loss: 0.4335 Acc: 0.8074\n",
            "val Loss: 0.3451 Acc: 0.8389\n",
            "\n",
            "Epoch 1/24\n",
            "----------\n",
            "train Loss: 0.2765 Acc: 0.8823\n",
            "val Loss: 0.3667 Acc: 0.8312\n",
            "\n",
            "Epoch 2/24\n",
            "----------\n",
            "train Loss: 0.2078 Acc: 0.9138\n",
            "val Loss: 0.3278 Acc: 0.8706\n",
            "\n",
            "Epoch 3/24\n",
            "----------\n",
            "train Loss: 0.1494 Acc: 0.9412\n",
            "val Loss: 0.3749 Acc: 0.8599\n",
            "\n",
            "Epoch 4/24\n",
            "----------\n",
            "train Loss: 0.1116 Acc: 0.9557\n",
            "val Loss: 0.3505 Acc: 0.8676\n",
            "\n",
            "Epoch 5/24\n",
            "----------\n",
            "train Loss: 0.0821 Acc: 0.9675\n",
            "val Loss: 0.4317 Acc: 0.8567\n",
            "\n",
            "Epoch 6/24\n",
            "----------\n",
            "train Loss: 0.0642 Acc: 0.9747\n",
            "val Loss: 0.7599 Acc: 0.8472\n",
            "\n",
            "Epoch 7/24\n",
            "----------\n",
            "train Loss: 0.0242 Acc: 0.9928\n",
            "val Loss: 0.5145 Acc: 0.8759\n",
            "\n",
            "Epoch 8/24\n",
            "----------\n",
            "train Loss: 0.0063 Acc: 0.9991\n",
            "val Loss: 0.5821 Acc: 0.8759\n",
            "\n",
            "Epoch 9/24\n",
            "----------\n",
            "train Loss: 0.0033 Acc: 0.9996\n",
            "val Loss: 0.6167 Acc: 0.8747\n",
            "\n",
            "Epoch 10/24\n",
            "----------\n",
            "train Loss: 0.0024 Acc: 0.9998\n",
            "val Loss: 0.6641 Acc: 0.8765\n",
            "\n",
            "Epoch 11/24\n",
            "----------\n",
            "train Loss: 0.0019 Acc: 0.9997\n",
            "val Loss: 0.6811 Acc: 0.8759\n",
            "\n",
            "Epoch 12/24\n",
            "----------\n",
            "train Loss: 0.0010 Acc: 1.0000\n",
            "val Loss: 0.6942 Acc: 0.8733\n",
            "\n",
            "Epoch 13/24\n",
            "----------\n",
            "train Loss: 0.0010 Acc: 1.0000\n",
            "val Loss: 0.7005 Acc: 0.8733\n",
            "\n",
            "Epoch 14/24\n",
            "----------\n",
            "train Loss: 0.0011 Acc: 0.9999\n",
            "val Loss: 0.6992 Acc: 0.8715\n",
            "\n",
            "Epoch 15/24\n",
            "----------\n",
            "train Loss: 0.0010 Acc: 0.9998\n",
            "val Loss: 0.7232 Acc: 0.8768\n",
            "\n",
            "Epoch 16/24\n",
            "----------\n",
            "train Loss: 0.0008 Acc: 1.0000\n",
            "val Loss: 0.7234 Acc: 0.8768\n",
            "\n",
            "Epoch 17/24\n",
            "----------\n",
            "train Loss: 0.0010 Acc: 0.9999\n",
            "val Loss: 0.7068 Acc: 0.8746\n",
            "\n",
            "Epoch 18/24\n",
            "----------\n",
            "train Loss: 0.0008 Acc: 0.9999\n",
            "val Loss: 0.7185 Acc: 0.8750\n",
            "\n",
            "Epoch 19/24\n",
            "----------\n",
            "train Loss: 0.0007 Acc: 1.0000\n",
            "val Loss: 0.7076 Acc: 0.8726\n",
            "\n",
            "Epoch 20/24\n",
            "----------\n",
            "train Loss: 0.0009 Acc: 0.9999\n",
            "val Loss: 0.7320 Acc: 0.8765\n",
            "\n",
            "Epoch 21/24\n",
            "----------\n",
            "train Loss: 0.0008 Acc: 1.0000\n",
            "val Loss: 0.7151 Acc: 0.8747\n",
            "\n",
            "Epoch 22/24\n",
            "----------\n",
            "train Loss: 0.0008 Acc: 1.0000\n",
            "val Loss: 0.7166 Acc: 0.8755\n",
            "\n",
            "Epoch 23/24\n",
            "----------\n",
            "train Loss: 0.0006 Acc: 1.0000\n",
            "val Loss: 0.7362 Acc: 0.8760\n",
            "\n",
            "Epoch 24/24\n",
            "----------\n",
            "train Loss: 0.0007 Acc: 1.0000\n",
            "val Loss: 0.7500 Acc: 0.8776\n",
            "\n",
            "Training complete in 64m 51s\n",
            "Best val Acc: 0.877602\n"
          ]
        }
      ],
      "source": [
        "model_ft, model_track = train_model(model_ft, criterion, optimizer_ft, exp_lr_scheduler,\n",
        "                       num_epochs)"
      ]
    },
    {
      "cell_type": "markdown",
      "source": [
        "## Save model"
      ],
      "metadata": {
        "id": "opLJmrWlVIen"
      }
    },
    {
      "cell_type": "markdown",
      "metadata": {
        "id": "NxFd8Kgg2uQP"
      },
      "source": [
        "**Warning:** Make sure to change model name so it doesn't overwrite"
      ]
    },
    {
      "cell_type": "code",
      "execution_count": 37,
      "metadata": {
        "id": "AHVc1L3d2uQP"
      },
      "outputs": [],
      "source": [
        "path = '/content/drive/MyDrive/Fourthbrain/Capstone/models/'\n",
        "model_name = 'model_baseline_CODAEL_v0'\n",
        "torch.save(model_ft, path + model_name + '.pth')\n",
        "torch.save(model_ft.state_dict(), path + model_name + '_weights.pth')"
      ]
    },
    {
      "cell_type": "code",
      "source": [
        "track_df = pd.DataFrame(model_track)\n",
        "track_df.to_csv(path + model_name + '_training_results.csv')"
      ],
      "metadata": {
        "id": "RtNRu8Eoo5bp"
      },
      "execution_count": 38,
      "outputs": []
    },
    {
      "cell_type": "markdown",
      "source": [
        "## Evaluate model on test set"
      ],
      "metadata": {
        "id": "1kBp_M3Ft8oc"
      }
    },
    {
      "cell_type": "markdown",
      "source": [
        "1.   Specify whether to load model or use model just trained\n",
        "2.   If loading, specify path to models folder and model name\n"
      ],
      "metadata": {
        "id": "0YflBh-WuG4Z"
      }
    },
    {
      "cell_type": "code",
      "source": [
        "load_model = False\n",
        "path = '/content/drive/MyDrive/Fourthbrain/Capstone/models/'\n",
        "model_name = 'model_baseline_CODAEL_v0'"
      ],
      "metadata": {
        "id": "1BM-ae4QqKQ4"
      },
      "execution_count": 39,
      "outputs": []
    },
    {
      "cell_type": "code",
      "source": [
        "if load_model:\n",
        "  model_ft = torch.load(path + model_name + '.pth')\n",
        "else:\n",
        "  model_ft"
      ],
      "metadata": {
        "id": "oE4wMf29vI0X"
      },
      "execution_count": 40,
      "outputs": []
    },
    {
      "cell_type": "markdown",
      "source": [
        "Define loss function (match loss function used during training)"
      ],
      "metadata": {
        "id": "-U5DzIVuzD8W"
      }
    },
    {
      "cell_type": "code",
      "source": [
        "device = torch.device(\"cuda:0\" if torch.cuda.is_available() else \"cpu\")"
      ],
      "metadata": {
        "id": "Csl8hXbTrd6M"
      },
      "execution_count": 41,
      "outputs": []
    },
    {
      "cell_type": "code",
      "source": [
        "loss_fn = nn.CrossEntropyLoss()"
      ],
      "metadata": {
        "id": "p7-KJbn6z1c5"
      },
      "execution_count": 42,
      "outputs": []
    },
    {
      "cell_type": "code",
      "execution_count": 43,
      "metadata": {
        "id": "pOh843tA2uQQ"
      },
      "outputs": [],
      "source": [
        "accuracy = torchmetrics.Accuracy().to(device)\n",
        "F1_score = torchmetrics.F1Score(num_classes=2).to(device)\n",
        "prec = torchmetrics.Precision().to(device)\n",
        "rec = torchmetrics.Recall().to(device)"
      ]
    },
    {
      "cell_type": "code",
      "source": [
        "torch.manual_seed(42)\n",
        "def eval_model(model: torch.nn.Module, \n",
        "               data_loader: torch.utils.data.DataLoader, \n",
        "               loss_fn: torch.nn.Module, \n",
        "               accuracy_fn,\n",
        "               precision_fn,\n",
        "               recall_fn,\n",
        "               F1_score_fn):\n",
        "    \n",
        "    loss, acc, F1, precision, recall = 0, 0, 0, 0, 0\n",
        "    model.eval()\n",
        "    with torch.inference_mode():\n",
        "        for X, y in data_loader:\n",
        "            # Ensure data tensors are on right device\n",
        "            X, y = X.to(device), y.to(device)\n",
        "            # Make predictions with the model\n",
        "            y_pred = model(X)\n",
        "            \n",
        "            # Accumulate the loss and accuracy values per batch\n",
        "            loss += loss_fn(y_pred, y)\n",
        "            acc += accuracy(y_pred.argmax(dim=1), y).item()*100\n",
        "            F1 += F1_score(y_pred.argmax(dim=1), y).item()\n",
        "            precision += prec(y_pred.argmax(dim=1), y).item()\n",
        "            recall += rec(y_pred.argmax(dim=1), y).item()\n",
        "        \n",
        "        # Scale loss and acc to find the average loss/acc per batch\n",
        "        loss /= len(data_loader)\n",
        "        acc /= len(data_loader)\n",
        "        F1 /= len(data_loader)\n",
        "        precision /= len(data_loader)\n",
        "        recall /= len(data_loader)\n",
        "    \n",
        "    model_dict = {\"model_name\": model.__class__.__name__, # only works when model was created with a class\n",
        "            \"test_loss\": loss.item(),\n",
        "            \"test_acc\": acc,\n",
        "            \"F1 score\": F1,\n",
        "            \"Precision\": precision,\n",
        "            \"Recall\": recall}\n",
        "    return model_dict"
      ],
      "metadata": {
        "id": "RlVDTSf4ykLN"
      },
      "execution_count": 46,
      "outputs": []
    },
    {
      "cell_type": "markdown",
      "source": [
        "Get dictionary of model results on test data"
      ],
      "metadata": {
        "id": "TtZPHKXls2rn"
      }
    },
    {
      "cell_type": "code",
      "source": [
        "model_ft_results = eval_model(model=model_ft, data_loader=dataloaders['test'], \n",
        "                                loss_fn=loss_fn, \n",
        "                                    accuracy_fn=accuracy,\n",
        "                                        precision_fn=prec,\n",
        "                                            recall_fn=rec,\n",
        "                                                F1_score_fn=F1_score\n",
        "                                        )\n",
        "print(model_ft_results)"
      ],
      "metadata": {
        "id": "ukJ7GPDBUFPy",
        "colab": {
          "base_uri": "https://localhost:8080/"
        },
        "outputId": "db45b65d-1168-4dcd-a5db-7b1df94ecd20"
      },
      "execution_count": 47,
      "outputs": [
        {
          "output_type": "stream",
          "name": "stdout",
          "text": [
            "{'model_name': 'ResNet', 'test_loss': 0.7229061722755432, 'test_acc': 87.44185702788397, 'F1 score': 0.8744185702788397, 'Precision': 0.8744185702788397, 'Recall': 0.8744185702788397}\n"
          ]
        }
      ]
    },
    {
      "cell_type": "markdown",
      "source": [
        "Write dictionary to csv"
      ],
      "metadata": {
        "id": "SctX1iAqtMwB"
      }
    },
    {
      "cell_type": "code",
      "source": [
        "test_results_df = pd.DataFrame(model_ft_results, index = np.arange(0,1))\n",
        "test_results_df.to_csv(path + model_name +'_test_results.csv')"
      ],
      "metadata": {
        "id": "ajeaCt3HskrC"
      },
      "execution_count": 48,
      "outputs": []
    },
    {
      "cell_type": "code",
      "source": [
        "model_ft_results"
      ],
      "metadata": {
        "colab": {
          "base_uri": "https://localhost:8080/"
        },
        "id": "sONMgh3FtiWh",
        "outputId": "379b21bf-bf03-4e46-fab9-92bc75bc0f5d"
      },
      "execution_count": 49,
      "outputs": [
        {
          "output_type": "execute_result",
          "data": {
            "text/plain": [
              "{'model_name': 'ResNet',\n",
              " 'test_loss': 0.7229061722755432,\n",
              " 'test_acc': 87.44185702788397,\n",
              " 'F1 score': 0.8744185702788397,\n",
              " 'Precision': 0.8744185702788397,\n",
              " 'Recall': 0.8744185702788397}"
            ]
          },
          "metadata": {},
          "execution_count": 49
        }
      ]
    },
    {
      "cell_type": "code",
      "source": [],
      "metadata": {
        "id": "ov1m5a9ctlEg"
      },
      "execution_count": null,
      "outputs": []
    }
  ],
  "metadata": {
    "kernelspec": {
      "display_name": "Python 3.8.13 ('capstone')",
      "language": "python",
      "name": "python3"
    },
    "language_info": {
      "codemirror_mode": {
        "name": "ipython",
        "version": 3
      },
      "file_extension": ".py",
      "mimetype": "text/x-python",
      "name": "python",
      "nbconvert_exporter": "python",
      "pygments_lexer": "ipython3",
      "version": "3.8.13"
    },
    "orig_nbformat": 4,
    "vscode": {
      "interpreter": {
        "hash": "fbe1240c42c9fedbac8dda4922e480118c75c39e21d1189b5dde5cc4a0ce6e6d"
      }
    },
    "colab": {
      "provenance": [],
      "collapsed_sections": []
    },
    "accelerator": "GPU",
    "widgets": {
      "application/vnd.jupyter.widget-state+json": {
        "181e3e99d4d94f47ba46ad63b8a286ab": {
          "model_module": "@jupyter-widgets/controls",
          "model_name": "HBoxModel",
          "model_module_version": "1.5.0",
          "state": {
            "_dom_classes": [],
            "_model_module": "@jupyter-widgets/controls",
            "_model_module_version": "1.5.0",
            "_model_name": "HBoxModel",
            "_view_count": null,
            "_view_module": "@jupyter-widgets/controls",
            "_view_module_version": "1.5.0",
            "_view_name": "HBoxView",
            "box_style": "",
            "children": [
              "IPY_MODEL_cdf46ea0492a42b7894361f17475c3bc",
              "IPY_MODEL_df20b93be4ac4affb07333f9bcc6adbf",
              "IPY_MODEL_977d19766e7a486c9f597b5261bf8a2f"
            ],
            "layout": "IPY_MODEL_45772f406b794681bbc8026bfc4f25c8"
          }
        },
        "cdf46ea0492a42b7894361f17475c3bc": {
          "model_module": "@jupyter-widgets/controls",
          "model_name": "HTMLModel",
          "model_module_version": "1.5.0",
          "state": {
            "_dom_classes": [],
            "_model_module": "@jupyter-widgets/controls",
            "_model_module_version": "1.5.0",
            "_model_name": "HTMLModel",
            "_view_count": null,
            "_view_module": "@jupyter-widgets/controls",
            "_view_module_version": "1.5.0",
            "_view_name": "HTMLView",
            "description": "",
            "description_tooltip": null,
            "layout": "IPY_MODEL_278209943a4a4d6ebc792f73e49b0415",
            "placeholder": "​",
            "style": "IPY_MODEL_b58ac9e73f7b4f019292b438d1b2e885",
            "value": "100%"
          }
        },
        "df20b93be4ac4affb07333f9bcc6adbf": {
          "model_module": "@jupyter-widgets/controls",
          "model_name": "FloatProgressModel",
          "model_module_version": "1.5.0",
          "state": {
            "_dom_classes": [],
            "_model_module": "@jupyter-widgets/controls",
            "_model_module_version": "1.5.0",
            "_model_name": "FloatProgressModel",
            "_view_count": null,
            "_view_module": "@jupyter-widgets/controls",
            "_view_module_version": "1.5.0",
            "_view_name": "ProgressView",
            "bar_style": "success",
            "description": "",
            "description_tooltip": null,
            "layout": "IPY_MODEL_72c392f8f3664d549d1ef501cd5ad0bb",
            "max": 46830571,
            "min": 0,
            "orientation": "horizontal",
            "style": "IPY_MODEL_8c7059979b364d2bb7d9373cb56eeeb4",
            "value": 46830571
          }
        },
        "977d19766e7a486c9f597b5261bf8a2f": {
          "model_module": "@jupyter-widgets/controls",
          "model_name": "HTMLModel",
          "model_module_version": "1.5.0",
          "state": {
            "_dom_classes": [],
            "_model_module": "@jupyter-widgets/controls",
            "_model_module_version": "1.5.0",
            "_model_name": "HTMLModel",
            "_view_count": null,
            "_view_module": "@jupyter-widgets/controls",
            "_view_module_version": "1.5.0",
            "_view_name": "HTMLView",
            "description": "",
            "description_tooltip": null,
            "layout": "IPY_MODEL_60444cbc5a744b62bef902744b14823b",
            "placeholder": "​",
            "style": "IPY_MODEL_594ccb8521de4fd2b6d6a328d7712088",
            "value": " 44.7M/44.7M [00:00&lt;00:00, 95.4MB/s]"
          }
        },
        "45772f406b794681bbc8026bfc4f25c8": {
          "model_module": "@jupyter-widgets/base",
          "model_name": "LayoutModel",
          "model_module_version": "1.2.0",
          "state": {
            "_model_module": "@jupyter-widgets/base",
            "_model_module_version": "1.2.0",
            "_model_name": "LayoutModel",
            "_view_count": null,
            "_view_module": "@jupyter-widgets/base",
            "_view_module_version": "1.2.0",
            "_view_name": "LayoutView",
            "align_content": null,
            "align_items": null,
            "align_self": null,
            "border": null,
            "bottom": null,
            "display": null,
            "flex": null,
            "flex_flow": null,
            "grid_area": null,
            "grid_auto_columns": null,
            "grid_auto_flow": null,
            "grid_auto_rows": null,
            "grid_column": null,
            "grid_gap": null,
            "grid_row": null,
            "grid_template_areas": null,
            "grid_template_columns": null,
            "grid_template_rows": null,
            "height": null,
            "justify_content": null,
            "justify_items": null,
            "left": null,
            "margin": null,
            "max_height": null,
            "max_width": null,
            "min_height": null,
            "min_width": null,
            "object_fit": null,
            "object_position": null,
            "order": null,
            "overflow": null,
            "overflow_x": null,
            "overflow_y": null,
            "padding": null,
            "right": null,
            "top": null,
            "visibility": null,
            "width": null
          }
        },
        "278209943a4a4d6ebc792f73e49b0415": {
          "model_module": "@jupyter-widgets/base",
          "model_name": "LayoutModel",
          "model_module_version": "1.2.0",
          "state": {
            "_model_module": "@jupyter-widgets/base",
            "_model_module_version": "1.2.0",
            "_model_name": "LayoutModel",
            "_view_count": null,
            "_view_module": "@jupyter-widgets/base",
            "_view_module_version": "1.2.0",
            "_view_name": "LayoutView",
            "align_content": null,
            "align_items": null,
            "align_self": null,
            "border": null,
            "bottom": null,
            "display": null,
            "flex": null,
            "flex_flow": null,
            "grid_area": null,
            "grid_auto_columns": null,
            "grid_auto_flow": null,
            "grid_auto_rows": null,
            "grid_column": null,
            "grid_gap": null,
            "grid_row": null,
            "grid_template_areas": null,
            "grid_template_columns": null,
            "grid_template_rows": null,
            "height": null,
            "justify_content": null,
            "justify_items": null,
            "left": null,
            "margin": null,
            "max_height": null,
            "max_width": null,
            "min_height": null,
            "min_width": null,
            "object_fit": null,
            "object_position": null,
            "order": null,
            "overflow": null,
            "overflow_x": null,
            "overflow_y": null,
            "padding": null,
            "right": null,
            "top": null,
            "visibility": null,
            "width": null
          }
        },
        "b58ac9e73f7b4f019292b438d1b2e885": {
          "model_module": "@jupyter-widgets/controls",
          "model_name": "DescriptionStyleModel",
          "model_module_version": "1.5.0",
          "state": {
            "_model_module": "@jupyter-widgets/controls",
            "_model_module_version": "1.5.0",
            "_model_name": "DescriptionStyleModel",
            "_view_count": null,
            "_view_module": "@jupyter-widgets/base",
            "_view_module_version": "1.2.0",
            "_view_name": "StyleView",
            "description_width": ""
          }
        },
        "72c392f8f3664d549d1ef501cd5ad0bb": {
          "model_module": "@jupyter-widgets/base",
          "model_name": "LayoutModel",
          "model_module_version": "1.2.0",
          "state": {
            "_model_module": "@jupyter-widgets/base",
            "_model_module_version": "1.2.0",
            "_model_name": "LayoutModel",
            "_view_count": null,
            "_view_module": "@jupyter-widgets/base",
            "_view_module_version": "1.2.0",
            "_view_name": "LayoutView",
            "align_content": null,
            "align_items": null,
            "align_self": null,
            "border": null,
            "bottom": null,
            "display": null,
            "flex": null,
            "flex_flow": null,
            "grid_area": null,
            "grid_auto_columns": null,
            "grid_auto_flow": null,
            "grid_auto_rows": null,
            "grid_column": null,
            "grid_gap": null,
            "grid_row": null,
            "grid_template_areas": null,
            "grid_template_columns": null,
            "grid_template_rows": null,
            "height": null,
            "justify_content": null,
            "justify_items": null,
            "left": null,
            "margin": null,
            "max_height": null,
            "max_width": null,
            "min_height": null,
            "min_width": null,
            "object_fit": null,
            "object_position": null,
            "order": null,
            "overflow": null,
            "overflow_x": null,
            "overflow_y": null,
            "padding": null,
            "right": null,
            "top": null,
            "visibility": null,
            "width": null
          }
        },
        "8c7059979b364d2bb7d9373cb56eeeb4": {
          "model_module": "@jupyter-widgets/controls",
          "model_name": "ProgressStyleModel",
          "model_module_version": "1.5.0",
          "state": {
            "_model_module": "@jupyter-widgets/controls",
            "_model_module_version": "1.5.0",
            "_model_name": "ProgressStyleModel",
            "_view_count": null,
            "_view_module": "@jupyter-widgets/base",
            "_view_module_version": "1.2.0",
            "_view_name": "StyleView",
            "bar_color": null,
            "description_width": ""
          }
        },
        "60444cbc5a744b62bef902744b14823b": {
          "model_module": "@jupyter-widgets/base",
          "model_name": "LayoutModel",
          "model_module_version": "1.2.0",
          "state": {
            "_model_module": "@jupyter-widgets/base",
            "_model_module_version": "1.2.0",
            "_model_name": "LayoutModel",
            "_view_count": null,
            "_view_module": "@jupyter-widgets/base",
            "_view_module_version": "1.2.0",
            "_view_name": "LayoutView",
            "align_content": null,
            "align_items": null,
            "align_self": null,
            "border": null,
            "bottom": null,
            "display": null,
            "flex": null,
            "flex_flow": null,
            "grid_area": null,
            "grid_auto_columns": null,
            "grid_auto_flow": null,
            "grid_auto_rows": null,
            "grid_column": null,
            "grid_gap": null,
            "grid_row": null,
            "grid_template_areas": null,
            "grid_template_columns": null,
            "grid_template_rows": null,
            "height": null,
            "justify_content": null,
            "justify_items": null,
            "left": null,
            "margin": null,
            "max_height": null,
            "max_width": null,
            "min_height": null,
            "min_width": null,
            "object_fit": null,
            "object_position": null,
            "order": null,
            "overflow": null,
            "overflow_x": null,
            "overflow_y": null,
            "padding": null,
            "right": null,
            "top": null,
            "visibility": null,
            "width": null
          }
        },
        "594ccb8521de4fd2b6d6a328d7712088": {
          "model_module": "@jupyter-widgets/controls",
          "model_name": "DescriptionStyleModel",
          "model_module_version": "1.5.0",
          "state": {
            "_model_module": "@jupyter-widgets/controls",
            "_model_module_version": "1.5.0",
            "_model_name": "DescriptionStyleModel",
            "_view_count": null,
            "_view_module": "@jupyter-widgets/base",
            "_view_module_version": "1.2.0",
            "_view_name": "StyleView",
            "description_width": ""
          }
        }
      }
    },
    "gpuClass": "standard"
  },
  "nbformat": 4,
  "nbformat_minor": 0
}