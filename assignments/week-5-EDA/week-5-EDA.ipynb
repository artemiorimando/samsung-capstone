{
 "cells": [
  {
   "cell_type": "markdown",
   "metadata": {},
   "source": [
    "## Capstone Week 5 EDA"
   ]
  },
  {
   "cell_type": "code",
   "execution_count": 1,
   "metadata": {},
   "outputs": [
    {
     "name": "stdout",
     "output_type": "stream",
     "text": [
      "Warning: nibabel not installed. Neuroimaging formats will not be available.\n"
     ]
    }
   ],
   "source": [
    "from SlideRunner.dataAccess.database import Database\n",
    "import SlideRunner.dataAccess.database\n",
    "import os\n",
    "import numpy as np\n",
    "import pandas as pd\n",
    "import openslide\n",
    "import cv2"
   ]
  },
  {
   "cell_type": "code",
   "execution_count": 2,
   "metadata": {},
   "outputs": [],
   "source": [
    "\n",
    "test_slides = ['14','18','3','22','10','15','21']\n"
   ]
  },
  {
   "cell_type": "markdown",
   "metadata": {},
   "source": [
    "### Query all databases for the respective classes. Joint query for same order"
   ]
  },
  {
   "cell_type": "code",
   "execution_count": 3,
   "metadata": {},
   "outputs": [],
   "source": [
    "DB = Database().open('../../databases/MITOS_WSI_CMC_ODAEL_TR.sqlite')\n",
    "DB.execute('ATTACH `../../databases/MITOS_WSI_CMC_MEL.sqlite` as MEL;')\n",
    "DB.execute('ATTACH `../../databases/MITOS_WSI_CMC_CODAEL_TR_ROI.sqlite` as CODAEL;')\n",
    "\n",
    "ODAEL = DB.execute(\"\"\"\n",
    "SELECT * FROM (\n",
    "SELECT filename, MitoticFigures, MitoticFigureLookalikes FROM \n",
    "(SELECT COUNT(*) as MitoticFigureLookalikes, slide from Annotations where agreedClass==1 group by slide) as cls1\n",
    "LEFT JOIN (SELECT COUNT(*) as MitoticFigures, slide from Annotations where agreedClass==2 group by slide) as cls2 on cls2.slide == cls1.slide\n",
    "LEFT JOIN Slides on Slides.uid == cls2.slide order by mitoticFigures) as ODAEL\n",
    "LEFT JOIN \n",
    "(\n",
    "SELECT filename, MitoticFigures, MitoticFigureLookalikes FROM (\n",
    "SELECT COUNT(*) as MitoticFigures, slide from MEL.Annotations where agreedClass==2 group by slide) as cls2\n",
    "LEFT JOIN (SELECT COUNT(*) as MitoticFigureLookalikes, slide from MEL.Annotations where agreedClass==1 group by slide) as cls1 on cls1.slide == cls2.slide\n",
    "LEFT JOIN MEL.Slides on Slides.uid == cls2.slide order by mitoticFigures\n",
    ") as MEL on MEL.filename == ODAEL.filename\n",
    "LEFT JOIN \n",
    "(\n",
    "SELECT filename, MitoticFigures, MitoticFigureLookalikes FROM \n",
    "(SELECT COUNT(*) as MitoticFigureLookalikes, slide from CODAEL.Annotations where agreedClass==1 group by slide) as cls1\n",
    "LEFT JOIN (SELECT COUNT(*) as MitoticFigures, slide from CODAEL.Annotations where agreedClass==2 group by slide) as cls2 on cls2.slide == cls1.slide\n",
    "LEFT JOIN MEL.Slides on Slides.uid == cls2.slide order by mitoticFigures\n",
    ") as CODAEL on CODAEL.filename == ODAEL.filename order by CODAEL.mitoticFigures\n",
    "\n",
    "\n",
    "\"\"\").fetchall()"
   ]
  },
  {
   "cell_type": "markdown",
   "metadata": {},
   "source": [
    "Output everything in LateX table format"
   ]
  },
  {
   "cell_type": "code",
   "execution_count": 4,
   "metadata": {},
   "outputs": [
    {
     "data": {
      "text/plain": [
       "[]"
      ]
     },
     "execution_count": 4,
     "metadata": {},
     "output_type": "execute_result"
    }
   ],
   "source": [
    "DB.execute(\"\"\"SELECT COUNT(*) as MitoticFigureLookalikes, slide from Annotations where agreedClass==7 group by slide\"\"\").fetchall()"
   ]
  },
  {
   "cell_type": "code",
   "execution_count": 5,
   "metadata": {},
   "outputs": [
    {
     "data": {
      "text/plain": [
       "('4eee7b944ad5e46c60ce.svs',\n",
       " 61,\n",
       " 196,\n",
       " '4eee7b944ad5e46c60ce.svs',\n",
       " 47,\n",
       " 114,\n",
       " '4eee7b944ad5e46c60ce.svs',\n",
       " 64,\n",
       " 193)"
      ]
     },
     "execution_count": 5,
     "metadata": {},
     "output_type": "execute_result"
    }
   ],
   "source": [
    "ODAEL[0]"
   ]
  },
  {
   "cell_type": "markdown",
   "metadata": {},
   "source": [
    "### Iterate through images"
   ]
  },
  {
   "cell_type": "code",
   "execution_count": 34,
   "metadata": {},
   "outputs": [],
   "source": [
    "\n",
    "\n",
    "dbTumor = Database()\n",
    "\n",
    "dbTumor.open('../../databases/MITOS_WSI_CMC_CODAEL_TR_ROI.sqlite')\n",
    "# pandas df for summary stats\n",
    "columns = ['file name', 'area (mm2)','MEL mit','ODAEL mit','MFs','MEL non-mit','ODAEL non-mit','Total non-mit','set']\n",
    "rows = np.arange(0,21)\n",
    "df_EDA = pd.DataFrame(index = rows, columns=columns)\n",
    "\n",
    "totalarea = 0\n",
    "totalmit = 0\n",
    "totalnonmit = 0\n",
    "totalmit_mel, totalnonmit_mel = 0,0\n",
    "totalmit_odael, totalnonmit_odael = 0,0\n",
    "for idx, (filename, mitA, nonmitA, _, mit,nonmit, _,  mitC,nonmitC) in enumerate(ODAEL):\n",
    "\n",
    "    dbTSlide = dbTumor.findSlideWithFilename(os.path.basename(filename), slidepath='')\n",
    "    dbTumor.loadIntoMemory(dbTSlide)\n",
    "    \n",
    "    slide = openslide.open_slide('../../WSI/'+filename)\n",
    "\n",
    "\n",
    "    positiveId = dbTumor.findClassidOfClass('Tumor region')[0][0]\n",
    "    import matplotlib.path as p\n",
    "\n",
    "    micronsPerPixel = slide.properties[openslide.PROPERTY_NAME_MPP_X]\n",
    "    mpp_scaled = float(slide.level_downsamples[-1]) * float(micronsPerPixel)  \n",
    "\n",
    "    slideActiveMap = np.zeros((slide.level_dimensions[-1][::-1]))\n",
    "    ds = slide.level_downsamples[-1]\n",
    "    for anno in dbTumor.annotations.keys():\n",
    "        if (dbTumor.annotations[anno].agreedLabel()==positiveId) and (type(dbTumor.annotations[anno]) == type(dbTumor.annotations[anno]) == SlideRunner.dataAccess.annotations.polygonAnnotation):\n",
    "            co = dbTumor.annotations[anno].coordinates\n",
    "            p3 = np.int32([np.asarray(co)/ds])\n",
    "            cv2.fillPoly(slideActiveMap, p3,color=[255] )\n",
    "\n",
    "    for anno in dbTumor.annotations.keys():\n",
    "        if not (dbTumor.annotations[anno].agreedLabel()==positiveId) and (type(dbTumor.annotations[anno]) == type(dbTumor.annotations[anno]) == SlideRunner.dataAccess.annotations.polygonAnnotation):\n",
    "            co = dbTumor.annotations[anno].coordinates\n",
    "            p3 = np.int32([np.asarray(co)/ds])\n",
    "            cv2.fillPoly(slideActiveMap, p3,color=[0] )\n",
    "    mm2 = np.sum(slideActiveMap>0)*mpp_scaled*mpp_scaled/1E6\n",
    "    totalarea += mm2\n",
    "    totalmit += mitC\n",
    "    totalnonmit += nonmitC\n",
    "    \n",
    "    totalmit_mel, totalnonmit_mel = totalmit_mel+mit, totalnonmit_mel+nonmit\n",
    "    totalmit_odael, totalnonmit_odael = totalmit_odael+mitA, totalnonmit_odael+nonmitA\n",
    "    \n",
    "    fname = filename.replace('_','\\\\_')\n",
    "    # update pandas df\n",
    "    variables = [fname, mm2, mit, mitA, mitC, nonmit, nonmitA, nonmitC, 'test' if str(dbTSlide) in test_slides else 'train']\n",
    "\n",
    "    for i in range(0,len(columns)):\n",
    "        df_EDA[columns[i]].iloc[idx] = variables[i]\n",
    "\n",
    "    #print(f\"{idx+1} & {fname} & {mm2:.2f}\\,$\\\\mathrm\"+\"{mm2}\"+f\"^2$ & {mit:,d} / {mitA:,d} / {mitC:,d} & {nonmit:,d} / {nonmitA:,d} / {nonmitC:,d} & {'test' if str(dbTSlide) in test_slides else 'train'} \\\\\\\\ \")\n",
    "    "
   ]
  },
  {
   "cell_type": "markdown",
   "metadata": {},
   "source": [
    "### Add density and class imbalance statistics"
   ]
  },
  {
   "cell_type": "code",
   "execution_count": 85,
   "metadata": {},
   "outputs": [],
   "source": [
    "# Copy df_EDA to new df\n",
    "dfe = df_EDA.copy()\n",
    "\n",
    "# change data types\n",
    "dfe = dfe.infer_objects()\n",
    "dfe = dfe.astype({'file name': 'string', 'set': 'string'})"
   ]
  },
  {
   "cell_type": "code",
   "execution_count": 91,
   "metadata": {},
   "outputs": [],
   "source": [
    "# Insert density and ratio statistics\n",
    "dfe.insert(5, 'MFs density (MFs/mm2)', dfe['MFs']/dfe['area (mm2)'])\n",
    "dfe.insert(9, 'Non-mit density (Non-mit/mm2', dfe['Total non-mit']/dfe['area (mm2)'])\n",
    "dfe['MFs to Non-mit ratio'] = dfe['MFs']/dfe['Total non-mit']\n"
   ]
  },
  {
   "cell_type": "markdown",
   "metadata": {},
   "source": [
    "### Descriptive statistics"
   ]
  },
  {
   "cell_type": "code",
   "execution_count": 94,
   "metadata": {},
   "outputs": [
    {
     "data": {
      "text/html": [
       "<div>\n",
       "<style scoped>\n",
       "    .dataframe tbody tr th:only-of-type {\n",
       "        vertical-align: middle;\n",
       "    }\n",
       "\n",
       "    .dataframe tbody tr th {\n",
       "        vertical-align: top;\n",
       "    }\n",
       "\n",
       "    .dataframe thead th {\n",
       "        text-align: right;\n",
       "    }\n",
       "</style>\n",
       "<table border=\"1\" class=\"dataframe\">\n",
       "  <thead>\n",
       "    <tr style=\"text-align: right;\">\n",
       "      <th></th>\n",
       "      <th>area (mm2)</th>\n",
       "      <th>MEL mit</th>\n",
       "      <th>ODAEL mit</th>\n",
       "      <th>MFs</th>\n",
       "      <th>MFs density (MFs/mm2)</th>\n",
       "      <th>MEL non-mit</th>\n",
       "      <th>ODAEL non-mit</th>\n",
       "      <th>Total non-mit</th>\n",
       "      <th>Non-mit density (Non-mit/mm2</th>\n",
       "      <th>MFs to Non-mit ratio</th>\n",
       "    </tr>\n",
       "  </thead>\n",
       "  <tbody>\n",
       "    <tr>\n",
       "      <th>count</th>\n",
       "      <td>21.000000</td>\n",
       "      <td>21.000000</td>\n",
       "      <td>21.000000</td>\n",
       "      <td>21.000000</td>\n",
       "      <td>21.000000</td>\n",
       "      <td>21.000000</td>\n",
       "      <td>21.000000</td>\n",
       "      <td>21.000000</td>\n",
       "      <td>21.000000</td>\n",
       "      <td>21.000000</td>\n",
       "    </tr>\n",
       "    <tr>\n",
       "      <th>mean</th>\n",
       "      <td>207.622757</td>\n",
       "      <td>635.333333</td>\n",
       "      <td>673.857143</td>\n",
       "      <td>662.238095</td>\n",
       "      <td>4.020871</td>\n",
       "      <td>1263.142857</td>\n",
       "      <td>1720.714286</td>\n",
       "      <td>1732.333333</td>\n",
       "      <td>11.400572</td>\n",
       "      <td>0.332505</td>\n",
       "    </tr>\n",
       "    <tr>\n",
       "      <th>std</th>\n",
       "      <td>140.457526</td>\n",
       "      <td>562.881456</td>\n",
       "      <td>586.919951</td>\n",
       "      <td>579.758131</td>\n",
       "      <td>3.881186</td>\n",
       "      <td>920.345548</td>\n",
       "      <td>1130.567076</td>\n",
       "      <td>1138.716617</td>\n",
       "      <td>8.872536</td>\n",
       "      <td>0.131770</td>\n",
       "    </tr>\n",
       "    <tr>\n",
       "      <th>min</th>\n",
       "      <td>26.291739</td>\n",
       "      <td>47.000000</td>\n",
       "      <td>61.000000</td>\n",
       "      <td>64.000000</td>\n",
       "      <td>0.448170</td>\n",
       "      <td>114.000000</td>\n",
       "      <td>196.000000</td>\n",
       "      <td>193.000000</td>\n",
       "      <td>2.582311</td>\n",
       "      <td>0.125850</td>\n",
       "    </tr>\n",
       "    <tr>\n",
       "      <th>25%</th>\n",
       "      <td>66.059741</td>\n",
       "      <td>139.000000</td>\n",
       "      <td>155.000000</td>\n",
       "      <td>153.000000</td>\n",
       "      <td>1.292533</td>\n",
       "      <td>404.000000</td>\n",
       "      <td>680.000000</td>\n",
       "      <td>691.000000</td>\n",
       "      <td>5.619277</td>\n",
       "      <td>0.214156</td>\n",
       "    </tr>\n",
       "    <tr>\n",
       "      <th>50%</th>\n",
       "      <td>226.394953</td>\n",
       "      <td>578.000000</td>\n",
       "      <td>642.000000</td>\n",
       "      <td>612.000000</td>\n",
       "      <td>3.102427</td>\n",
       "      <td>1143.000000</td>\n",
       "      <td>1596.000000</td>\n",
       "      <td>1653.000000</td>\n",
       "      <td>7.867378</td>\n",
       "      <td>0.331606</td>\n",
       "    </tr>\n",
       "    <tr>\n",
       "      <th>75%</th>\n",
       "      <td>273.880910</td>\n",
       "      <td>1097.000000</td>\n",
       "      <td>1114.000000</td>\n",
       "      <td>1085.000000</td>\n",
       "      <td>4.965614</td>\n",
       "      <td>1832.000000</td>\n",
       "      <td>2550.000000</td>\n",
       "      <td>2552.000000</td>\n",
       "      <td>13.425868</td>\n",
       "      <td>0.421725</td>\n",
       "    </tr>\n",
       "    <tr>\n",
       "      <th>max</th>\n",
       "      <td>513.280961</td>\n",
       "      <td>1949.000000</td>\n",
       "      <td>2035.000000</td>\n",
       "      <td>1993.000000</td>\n",
       "      <td>15.169297</td>\n",
       "      <td>3598.000000</td>\n",
       "      <td>4408.000000</td>\n",
       "      <td>4450.000000</td>\n",
       "      <td>33.848871</td>\n",
       "      <td>0.555471</td>\n",
       "    </tr>\n",
       "  </tbody>\n",
       "</table>\n",
       "</div>"
      ],
      "text/plain": [
       "       area (mm2)      MEL mit    ODAEL mit          MFs  \\\n",
       "count   21.000000    21.000000    21.000000    21.000000   \n",
       "mean   207.622757   635.333333   673.857143   662.238095   \n",
       "std    140.457526   562.881456   586.919951   579.758131   \n",
       "min     26.291739    47.000000    61.000000    64.000000   \n",
       "25%     66.059741   139.000000   155.000000   153.000000   \n",
       "50%    226.394953   578.000000   642.000000   612.000000   \n",
       "75%    273.880910  1097.000000  1114.000000  1085.000000   \n",
       "max    513.280961  1949.000000  2035.000000  1993.000000   \n",
       "\n",
       "       MFs density (MFs/mm2)  MEL non-mit  ODAEL non-mit  Total non-mit  \\\n",
       "count              21.000000    21.000000      21.000000      21.000000   \n",
       "mean                4.020871  1263.142857    1720.714286    1732.333333   \n",
       "std                 3.881186   920.345548    1130.567076    1138.716617   \n",
       "min                 0.448170   114.000000     196.000000     193.000000   \n",
       "25%                 1.292533   404.000000     680.000000     691.000000   \n",
       "50%                 3.102427  1143.000000    1596.000000    1653.000000   \n",
       "75%                 4.965614  1832.000000    2550.000000    2552.000000   \n",
       "max                15.169297  3598.000000    4408.000000    4450.000000   \n",
       "\n",
       "       Non-mit density (Non-mit/mm2  MFs to Non-mit ratio  \n",
       "count                     21.000000             21.000000  \n",
       "mean                      11.400572              0.332505  \n",
       "std                        8.872536              0.131770  \n",
       "min                        2.582311              0.125850  \n",
       "25%                        5.619277              0.214156  \n",
       "50%                        7.867378              0.331606  \n",
       "75%                       13.425868              0.421725  \n",
       "max                       33.848871              0.555471  "
      ]
     },
     "execution_count": 94,
     "metadata": {},
     "output_type": "execute_result"
    }
   ],
   "source": [
    "dfe.describe()"
   ]
  },
  {
   "cell_type": "code",
   "execution_count": 8,
   "metadata": {},
   "outputs": [
    {
     "data": {
      "text/plain": [
       "(26526, 36135, 36379)"
      ]
     },
     "execution_count": 8,
     "metadata": {},
     "output_type": "execute_result"
    }
   ],
   "source": [
    "totalnonmit_mel, totalnonmit_odael, totalnonmit"
   ]
  },
  {
   "cell_type": "code",
   "execution_count": 9,
   "metadata": {},
   "outputs": [
    {
     "data": {
      "text/plain": [
       "(13342, 14151, 13907)"
      ]
     },
     "execution_count": 9,
     "metadata": {},
     "output_type": "execute_result"
    }
   ],
   "source": [
    "totalmit_mel, totalmit_odael, totalmit\n"
   ]
  },
  {
   "cell_type": "markdown",
   "metadata": {},
   "source": [
    "### Plots"
   ]
  },
  {
   "cell_type": "code",
   "execution_count": 104,
   "metadata": {},
   "outputs": [],
   "source": [
    "import matplotlib.pyplot as plt"
   ]
  },
  {
   "cell_type": "markdown",
   "metadata": {},
   "source": [
    "#### Class imbalance on WSIs"
   ]
  },
  {
   "cell_type": "code",
   "execution_count": 103,
   "metadata": {},
   "outputs": [
    {
     "data": {
      "text/plain": [
       "Text(0.5, 1.0, 'Class imbalance on 21 WSIs')"
      ]
     },
     "execution_count": 103,
     "metadata": {},
     "output_type": "execute_result"
    },
    {
     "data": {
      "image/png": "[encoded data removed]",
      "text/plain": [
       "<Figure size 640x480 with 1 Axes>"
      ]
     },
     "metadata": {},
     "output_type": "display_data"
    }
   ],
   "source": [
    "plt.figure()\n",
    "plt.bar(dfe.index+1, dfe['MFs to Non-mit ratio'])\n",
    "plt.xlabel('Slide number')\n",
    "plt.ylabel('Mitotic to non-mitotic figure ratio')\n",
    "plt.title('Class imbalance on 21 WSIs')\n"
   ]
  },
  {
   "cell_type": "markdown",
   "metadata": {},
   "source": [
    "#### Mitotic and non-mitotic figure density on WSIs"
   ]
  },
  {
   "cell_type": "code",
   "execution_count": 132,
   "metadata": {},
   "outputs": [
    {
     "data": {
      "image/png": "[encoded data removed]",
      "text/plain": [
       "<Figure size 640x480 with 2 Axes>"
      ]
     },
     "metadata": {},
     "output_type": "display_data"
    }
   ],
   "source": [
    "fig = plt.figure() # Create matplotlib figure\n",
    "\n",
    "ax = fig.add_subplot(111) # Create matplotlib axes\n",
    "ax2 = ax.twinx() # Create another axes that shares the same x-axis as ax.\n",
    "\n",
    "width = 0.4\n",
    "\n",
    "dfe['MFs density (MFs/mm2)'].plot(kind='bar', color='red', ax=ax, width=width, position=1)\n",
    "dfe['Non-mit density (Non-mit/mm2'].plot(kind='bar', color='blue', ax=ax2, width=width, position=0)\n",
    "\n",
    "ax.set_ylabel('Mitotic figure density (per mm2)', color='blue')\n",
    "ax.set_title('Comparison of mitotic and non-mitotic figure density in WSIs')\n",
    "ax2.set_ylabel('Non-mitotic figure density (per mm2)', color='red')\n",
    "\n",
    "plt.show()"
   ]
  },
  {
   "cell_type": "markdown",
   "metadata": {},
   "source": [
    "### WSI total area"
   ]
  },
  {
   "cell_type": "code",
   "execution_count": 10,
   "metadata": {},
   "outputs": [
    {
     "name": "stdout",
     "output_type": "stream",
     "text": [
      "Total area:  4360.07788915561 mm^2\n",
      "mitotic figures in CODAEL data set 13907\n",
      "nonmitotic figures in CODAEL data set 36379\n"
     ]
    }
   ],
   "source": [
    "print('Total area: ',totalarea,'mm^2')\n",
    "print('mitotic figures in CODAEL data set',totalmit)\n",
    "print('nonmitotic figures in CODAEL data set',totalnonmit)\n"
   ]
  },
  {
   "cell_type": "markdown",
   "metadata": {},
   "source": [
    "### Open questions and issues"
   ]
  },
  {
   "cell_type": "markdown",
   "metadata": {},
   "source": [
    "* We have full slide .svs images. How do we split the images and attach annotations to them using the SQLite database?\n",
    "* What do the columns mean inside of Annotation and Slide databases?\n",
    "* How do we obtain and show separate images from slides with annotations in notebook environment?\n",
    "* Major Issue: the code from the original authors uses fastAI v1 but newer Mac OS cannot run certain dependencies for fastAI v1 so replication of author's project is difficult or impossible\n",
    "* How do we want to approach this project?\n",
    "    * Should we start from scratch? Take raw .svs images and match annotations from SQLite databases before working with them?\n",
    "    * Should we start go down the simpler route and build simple classification models so that we can extract image embeddings easily?\n",
    "    * How do we translate cancer images to text without domain expertise? Should we write our own explanations as a POC and try out image-to-text models?\n",
    "    * Annotated images have number of cancer cells and number of cancer regions which would be useful for final output report. Do we forego this if we want to keep it simple?"
   ]
  },
  {
   "cell_type": "markdown",
   "metadata": {},
   "source": []
  }
 ],
 "metadata": {
  "kernelspec": {
   "display_name": "Python 3.8.13 ('capstone')",
   "language": "python",
   "name": "python3"
  },
  "language_info": {
   "codemirror_mode": {
    "name": "ipython",
    "version": 3
   },
   "file_extension": ".py",
   "mimetype": "text/x-python",
   "name": "python",
   "nbconvert_exporter": "python",
   "pygments_lexer": "ipython3",
   "version": "3.8.13"
  },
  "vscode": {
   "interpreter": {
    "hash": "fbe1240c42c9fedbac8dda4922e480118c75c39e21d1189b5dde5cc4a0ce6e6d"
   }
  }
 },
 "nbformat": 4,
 "nbformat_minor": 2
}
